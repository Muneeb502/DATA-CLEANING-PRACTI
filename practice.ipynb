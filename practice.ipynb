{
 "cells": [
  {
   "cell_type": "code",
   "execution_count": 6,
   "id": "8b76b201-1a45-4050-8576-66dc5bfa26cf",
   "metadata": {},
   "outputs": [],
   "source": [
    "import pandas as pd"
   ]
  },
  {
   "cell_type": "code",
   "execution_count": 7,
   "id": "a7a875b8-6777-40fc-9277-43c7245309a5",
   "metadata": {},
   "outputs": [],
   "source": [
    "import numpy as np"
   ]
  },
  {
   "cell_type": "code",
   "execution_count": 12,
   "id": "87b6dbcc-9857-4235-a424-4cb5bdbf8150",
   "metadata": {},
   "outputs": [],
   "source": [
    "s1 = pd.Series([2,4,8,16,32,64] , index=['onetime','twotime','threetime','fourtime','fivetime','sixtime'])\n"
   ]
  },
  {
   "cell_type": "code",
   "execution_count": 13,
   "id": "21c793ca-26ee-4508-94e9-bdeefd24bfd1",
   "metadata": {},
   "outputs": [
    {
     "data": {
      "text/plain": [
       "onetime       2\n",
       "twotime       4\n",
       "threetime     8\n",
       "fourtime     16\n",
       "fivetime     32\n",
       "sixtime      64\n",
       "dtype: int64"
      ]
     },
     "execution_count": 13,
     "metadata": {},
     "output_type": "execute_result"
    }
   ],
   "source": [
    "s1"
   ]
  },
  {
   "cell_type": "code",
   "execution_count": 14,
   "id": "00e264f6-c1fb-4df6-b843-05e1ea5efec6",
   "metadata": {},
   "outputs": [
    {
     "data": {
      "text/plain": [
       "array([ 2,  4,  8, 16, 32, 64], dtype=int64)"
      ]
     },
     "execution_count": 14,
     "metadata": {},
     "output_type": "execute_result"
    }
   ],
   "source": [
    "s1.values"
   ]
  },
  {
   "cell_type": "code",
   "execution_count": 15,
   "id": "655628b8-ae81-4a28-bfa0-4ef08096be2b",
   "metadata": {},
   "outputs": [
    {
     "data": {
      "text/plain": [
       "Index(['onetime', 'twotime', 'threetime', 'fourtime', 'fivetime', 'sixtime'], dtype='object')"
      ]
     },
     "execution_count": 15,
     "metadata": {},
     "output_type": "execute_result"
    }
   ],
   "source": [
    "s1.index"
   ]
  },
  {
   "cell_type": "markdown",
   "id": "ded8e8de-7349-401c-a9ad-479a7e6a5c51",
   "metadata": {},
   "source": [
    "# values with lables or index of series"
   ]
  },
  {
   "cell_type": "code",
   "execution_count": 18,
   "id": "2b7458cb-66a9-4140-95c1-815cb561dcf8",
   "metadata": {},
   "outputs": [
    {
     "data": {
      "text/plain": [
       "twotime      4\n",
       "threetime    8\n",
       "dtype: int64"
      ]
     },
     "execution_count": 18,
     "metadata": {},
     "output_type": "execute_result"
    }
   ],
   "source": [
    "s1[1:3]"
   ]
  },
  {
   "cell_type": "code",
   "execution_count": 19,
   "id": "9bd376ab-046f-45bd-8918-2d42f5448a24",
   "metadata": {},
   "outputs": [
    {
     "data": {
      "text/plain": [
       "array([4, 8], dtype=int64)"
      ]
     },
     "execution_count": 19,
     "metadata": {},
     "output_type": "execute_result"
    }
   ],
   "source": [
    "s1[1:3].values"
   ]
  },
  {
   "cell_type": "code",
   "execution_count": 20,
   "id": "49bc29d7-30a5-4d2c-bba0-b7ab55fd14e5",
   "metadata": {},
   "outputs": [
    {
     "data": {
      "text/plain": [
       "twotime       4\n",
       "threetime     8\n",
       "fourtime     16\n",
       "fivetime     32\n",
       "dtype: int64"
      ]
     },
     "execution_count": 20,
     "metadata": {},
     "output_type": "execute_result"
    }
   ],
   "source": [
    "s1[\"twotime\":\"fivetime\"]"
   ]
  },
  {
   "cell_type": "code",
   "execution_count": 21,
   "id": "d25478b0-39a2-4bba-beb3-f7ac4b58874a",
   "metadata": {},
   "outputs": [
    {
     "data": {
      "text/plain": [
       "array([ 4,  8, 16, 32], dtype=int64)"
      ]
     },
     "execution_count": 21,
     "metadata": {},
     "output_type": "execute_result"
    }
   ],
   "source": [
    "s1[\"twotime\":\"fivetime\"].values"
   ]
  },
  {
   "cell_type": "code",
   "execution_count": 44,
   "id": "a7a99c03-ecad-4704-a053-6f379b7a96a6",
   "metadata": {},
   "outputs": [],
   "source": [
    "students = [\n",
    "    {\"ROLL-NUMBER\": 4, \"NAME\": \"ABDIL MOIZ\", \"DEPARTMENT\": \"CYBER SECURITY\", \"BATCH\": 22, \"AGE\": 26, \"RESULT\": \"Passed\"},\n",
    "    {\"ROLL-NUMBER\": 5, \"NAME\": \"MUNEEB UR REHMAN\", \"DEPARTMENT\": \"CYBER SECURITY\", \"BATCH\": 22, \"AGE\": 16, \"RESULT\": \"Passed\"},\n",
    "    {\"ROLL-NUMBER\": 7, \"NAME\": \"SALMA AIJAZ\", \"DEPARTMENT\": \"CYBER SECURITY\", \"BATCH\": 22, \"AGE\": 21, \"RESULT\": \"Passed\"},\n",
    "    {\"ROLL-NUMBER\": 34, \"NAME\": \"MATIULLAH KHAN\", \"DEPARTMENT\": \"CYBER SECURITY\", \"BATCH\": 22, \"AGE\": 30, \"RESULT\": \"Failed\"},\n",
    "    {\"ROLL-NUMBER\": 12, \"NAME\": \"ALI RAZA\", \"DEPARTMENT\": \"SOFTWARE ENGINEERING\", \"BATCH\": 23, \"AGE\": 22, \"RESULT\": \"Passed\"},\n",
    "    {\"ROLL-NUMBER\": 15, \"NAME\": \"SARA KHAN\", \"DEPARTMENT\": \"SOFTWARE ENGINEERING\", \"BATCH\": 23, \"AGE\": 17, \"RESULT\": \"Passed\"},\n",
    "    {\"ROLL-NUMBER\": 21, \"NAME\": \"AHMED KHAN\", \"DEPARTMENT\": \"INFORMATION TECHNOLOGY\", \"BATCH\": 24, \"AGE\": 22, \"RESULT\": \"Passed\"},\n",
    "    {\"ROLL-NUMBER\": 22, \"NAME\": \"FAIZA ALI\", \"DEPARTMENT\": \"INFORMATION TECHNOLOGY\", \"BATCH\": 24, \"AGE\": 21, \"RESULT\": \"Failed\"},\n",
    "    {\"ROLL-NUMBER\": 31, \"NAME\": \"ZAINAB AHMED\", \"DEPARTMENT\": \"COMPUTER SCIENCE\", \"BATCH\": 25, \"AGE\": 20, \"RESULT\": \"Passed\"},\n",
    "    {\"ROLL-NUMBER\": 33, \"NAME\": \"USMAN ALI\", \"DEPARTMENT\": \"COMPUTER SCIENCE\", \"BATCH\": 25, \"AGE\": 32, \"RESULT\": \"Passed\"}\n",
    "]\n"
   ]
  },
  {
   "cell_type": "code",
   "execution_count": 45,
   "id": "d0c74e76-4bd9-4db6-8215-0fe7a9461d71",
   "metadata": {},
   "outputs": [],
   "source": [
    "df = pd.DataFrame(students)"
   ]
  },
  {
   "cell_type": "code",
   "execution_count": 46,
   "id": "eec57e4d-6531-4916-812a-7de0d6cb0bc1",
   "metadata": {},
   "outputs": [
    {
     "data": {
      "text/html": [
       "<div>\n",
       "<style scoped>\n",
       "    .dataframe tbody tr th:only-of-type {\n",
       "        vertical-align: middle;\n",
       "    }\n",
       "\n",
       "    .dataframe tbody tr th {\n",
       "        vertical-align: top;\n",
       "    }\n",
       "\n",
       "    .dataframe thead th {\n",
       "        text-align: right;\n",
       "    }\n",
       "</style>\n",
       "<table border=\"1\" class=\"dataframe\">\n",
       "  <thead>\n",
       "    <tr style=\"text-align: right;\">\n",
       "      <th></th>\n",
       "      <th>ROLL-NUMBER</th>\n",
       "      <th>NAME</th>\n",
       "      <th>DEPARTMENT</th>\n",
       "      <th>BATCH</th>\n",
       "      <th>AGE</th>\n",
       "      <th>RESULT</th>\n",
       "    </tr>\n",
       "  </thead>\n",
       "  <tbody>\n",
       "    <tr>\n",
       "      <th>0</th>\n",
       "      <td>4</td>\n",
       "      <td>ABDIL MOIZ</td>\n",
       "      <td>CYBER SECURITY</td>\n",
       "      <td>22</td>\n",
       "      <td>26</td>\n",
       "      <td>Passed</td>\n",
       "    </tr>\n",
       "    <tr>\n",
       "      <th>1</th>\n",
       "      <td>5</td>\n",
       "      <td>MUNEEB UR REHMAN</td>\n",
       "      <td>CYBER SECURITY</td>\n",
       "      <td>22</td>\n",
       "      <td>16</td>\n",
       "      <td>Passed</td>\n",
       "    </tr>\n",
       "    <tr>\n",
       "      <th>2</th>\n",
       "      <td>7</td>\n",
       "      <td>SALMA AIJAZ</td>\n",
       "      <td>CYBER SECURITY</td>\n",
       "      <td>22</td>\n",
       "      <td>21</td>\n",
       "      <td>Passed</td>\n",
       "    </tr>\n",
       "    <tr>\n",
       "      <th>3</th>\n",
       "      <td>34</td>\n",
       "      <td>MATIULLAH KHAN</td>\n",
       "      <td>CYBER SECURITY</td>\n",
       "      <td>22</td>\n",
       "      <td>30</td>\n",
       "      <td>Failed</td>\n",
       "    </tr>\n",
       "    <tr>\n",
       "      <th>4</th>\n",
       "      <td>12</td>\n",
       "      <td>ALI RAZA</td>\n",
       "      <td>SOFTWARE ENGINEERING</td>\n",
       "      <td>23</td>\n",
       "      <td>22</td>\n",
       "      <td>Passed</td>\n",
       "    </tr>\n",
       "    <tr>\n",
       "      <th>5</th>\n",
       "      <td>15</td>\n",
       "      <td>SARA KHAN</td>\n",
       "      <td>SOFTWARE ENGINEERING</td>\n",
       "      <td>23</td>\n",
       "      <td>17</td>\n",
       "      <td>Passed</td>\n",
       "    </tr>\n",
       "    <tr>\n",
       "      <th>6</th>\n",
       "      <td>21</td>\n",
       "      <td>AHMED KHAN</td>\n",
       "      <td>INFORMATION TECHNOLOGY</td>\n",
       "      <td>24</td>\n",
       "      <td>22</td>\n",
       "      <td>Passed</td>\n",
       "    </tr>\n",
       "    <tr>\n",
       "      <th>7</th>\n",
       "      <td>22</td>\n",
       "      <td>FAIZA ALI</td>\n",
       "      <td>INFORMATION TECHNOLOGY</td>\n",
       "      <td>24</td>\n",
       "      <td>21</td>\n",
       "      <td>Failed</td>\n",
       "    </tr>\n",
       "    <tr>\n",
       "      <th>8</th>\n",
       "      <td>31</td>\n",
       "      <td>ZAINAB AHMED</td>\n",
       "      <td>COMPUTER SCIENCE</td>\n",
       "      <td>25</td>\n",
       "      <td>20</td>\n",
       "      <td>Passed</td>\n",
       "    </tr>\n",
       "    <tr>\n",
       "      <th>9</th>\n",
       "      <td>33</td>\n",
       "      <td>USMAN ALI</td>\n",
       "      <td>COMPUTER SCIENCE</td>\n",
       "      <td>25</td>\n",
       "      <td>32</td>\n",
       "      <td>Passed</td>\n",
       "    </tr>\n",
       "  </tbody>\n",
       "</table>\n",
       "</div>"
      ],
      "text/plain": [
       "   ROLL-NUMBER              NAME              DEPARTMENT  BATCH  AGE  RESULT\n",
       "0            4        ABDIL MOIZ          CYBER SECURITY     22   26  Passed\n",
       "1            5  MUNEEB UR REHMAN          CYBER SECURITY     22   16  Passed\n",
       "2            7       SALMA AIJAZ          CYBER SECURITY     22   21  Passed\n",
       "3           34    MATIULLAH KHAN          CYBER SECURITY     22   30  Failed\n",
       "4           12          ALI RAZA    SOFTWARE ENGINEERING     23   22  Passed\n",
       "5           15         SARA KHAN    SOFTWARE ENGINEERING     23   17  Passed\n",
       "6           21        AHMED KHAN  INFORMATION TECHNOLOGY     24   22  Passed\n",
       "7           22         FAIZA ALI  INFORMATION TECHNOLOGY     24   21  Failed\n",
       "8           31      ZAINAB AHMED        COMPUTER SCIENCE     25   20  Passed\n",
       "9           33         USMAN ALI        COMPUTER SCIENCE     25   32  Passed"
      ]
     },
     "execution_count": 46,
     "metadata": {},
     "output_type": "execute_result"
    }
   ],
   "source": [
    "df"
   ]
  },
  {
   "cell_type": "code",
   "execution_count": 47,
   "id": "d36766a4-685f-4c50-a136-dff2cb2948d1",
   "metadata": {},
   "outputs": [
    {
     "data": {
      "text/plain": [
       "0     4\n",
       "1     5\n",
       "2     7\n",
       "3    34\n",
       "4    12\n",
       "5    15\n",
       "6    21\n",
       "7    22\n",
       "8    31\n",
       "9    33\n",
       "Name: ROLL-NUMBER, dtype: int64"
      ]
     },
     "execution_count": 47,
     "metadata": {},
     "output_type": "execute_result"
    }
   ],
   "source": [
    "df[\"ROLL-NUMBER\"]   # selecting one colum no it will be series "
   ]
  },
  {
   "cell_type": "code",
   "execution_count": 48,
   "id": "1ad7d351-cbb9-47bb-bb4c-f76fb367099b",
   "metadata": {},
   "outputs": [
    {
     "data": {
      "text/plain": [
       "pandas.core.series.Series"
      ]
     },
     "execution_count": 48,
     "metadata": {},
     "output_type": "execute_result"
    }
   ],
   "source": [
    "type(df[\"ROLL-NUMBER\"])"
   ]
  },
  {
   "cell_type": "code",
   "execution_count": 49,
   "id": "558ee592-c204-4dac-b8fb-27db9c2a4285",
   "metadata": {},
   "outputs": [
    {
     "data": {
      "text/html": [
       "<div>\n",
       "<style scoped>\n",
       "    .dataframe tbody tr th:only-of-type {\n",
       "        vertical-align: middle;\n",
       "    }\n",
       "\n",
       "    .dataframe tbody tr th {\n",
       "        vertical-align: top;\n",
       "    }\n",
       "\n",
       "    .dataframe thead th {\n",
       "        text-align: right;\n",
       "    }\n",
       "</style>\n",
       "<table border=\"1\" class=\"dataframe\">\n",
       "  <thead>\n",
       "    <tr style=\"text-align: right;\">\n",
       "      <th></th>\n",
       "      <th>ROLL-NUMBER</th>\n",
       "      <th>BATCH</th>\n",
       "    </tr>\n",
       "  </thead>\n",
       "  <tbody>\n",
       "    <tr>\n",
       "      <th>0</th>\n",
       "      <td>4</td>\n",
       "      <td>22</td>\n",
       "    </tr>\n",
       "    <tr>\n",
       "      <th>1</th>\n",
       "      <td>5</td>\n",
       "      <td>22</td>\n",
       "    </tr>\n",
       "    <tr>\n",
       "      <th>2</th>\n",
       "      <td>7</td>\n",
       "      <td>22</td>\n",
       "    </tr>\n",
       "    <tr>\n",
       "      <th>3</th>\n",
       "      <td>34</td>\n",
       "      <td>22</td>\n",
       "    </tr>\n",
       "    <tr>\n",
       "      <th>4</th>\n",
       "      <td>12</td>\n",
       "      <td>23</td>\n",
       "    </tr>\n",
       "    <tr>\n",
       "      <th>5</th>\n",
       "      <td>15</td>\n",
       "      <td>23</td>\n",
       "    </tr>\n",
       "    <tr>\n",
       "      <th>6</th>\n",
       "      <td>21</td>\n",
       "      <td>24</td>\n",
       "    </tr>\n",
       "    <tr>\n",
       "      <th>7</th>\n",
       "      <td>22</td>\n",
       "      <td>24</td>\n",
       "    </tr>\n",
       "    <tr>\n",
       "      <th>8</th>\n",
       "      <td>31</td>\n",
       "      <td>25</td>\n",
       "    </tr>\n",
       "    <tr>\n",
       "      <th>9</th>\n",
       "      <td>33</td>\n",
       "      <td>25</td>\n",
       "    </tr>\n",
       "  </tbody>\n",
       "</table>\n",
       "</div>"
      ],
      "text/plain": [
       "   ROLL-NUMBER  BATCH\n",
       "0            4     22\n",
       "1            5     22\n",
       "2            7     22\n",
       "3           34     22\n",
       "4           12     23\n",
       "5           15     23\n",
       "6           21     24\n",
       "7           22     24\n",
       "8           31     25\n",
       "9           33     25"
      ]
     },
     "execution_count": 49,
     "metadata": {},
     "output_type": "execute_result"
    }
   ],
   "source": [
    "#now selecting two or more cloums ---------for this you will have to make it a list \n",
    "#df[\"ROLL-NUMBER\",\"BATCH\"]  this wrong implementation\n",
    "df[[\"ROLL-NUMBER\",\"BATCH\"]]"
   ]
  },
  {
   "cell_type": "markdown",
   "id": "05416afa-b855-4d13-92b3-eb2109da4237",
   "metadata": {},
   "source": [
    "# how to rename the cloumns name like if any column name have space, capitals letter "
   ]
  },
  {
   "cell_type": "code",
   "execution_count": 50,
   "id": "f5f01bcb-74f8-4c4b-9c84-3b1176e1e122",
   "metadata": {},
   "outputs": [],
   "source": [
    "#i want to rename the column [name]\n",
    "df = df.rename(columns={\"NAME\":\"NAMES\",\"ROLL-NUMBER\":\"ROLL_NUMBER\"})"
   ]
  },
  {
   "cell_type": "code",
   "execution_count": 51,
   "id": "c6af0c86-c71f-4ef0-8fce-20cd79496236",
   "metadata": {
    "scrolled": true
   },
   "outputs": [
    {
     "data": {
      "text/html": [
       "<div>\n",
       "<style scoped>\n",
       "    .dataframe tbody tr th:only-of-type {\n",
       "        vertical-align: middle;\n",
       "    }\n",
       "\n",
       "    .dataframe tbody tr th {\n",
       "        vertical-align: top;\n",
       "    }\n",
       "\n",
       "    .dataframe thead th {\n",
       "        text-align: right;\n",
       "    }\n",
       "</style>\n",
       "<table border=\"1\" class=\"dataframe\">\n",
       "  <thead>\n",
       "    <tr style=\"text-align: right;\">\n",
       "      <th></th>\n",
       "      <th>ROLL_NUMBER</th>\n",
       "      <th>NAMES</th>\n",
       "      <th>DEPARTMENT</th>\n",
       "      <th>BATCH</th>\n",
       "      <th>AGE</th>\n",
       "      <th>RESULT</th>\n",
       "    </tr>\n",
       "  </thead>\n",
       "  <tbody>\n",
       "    <tr>\n",
       "      <th>0</th>\n",
       "      <td>4</td>\n",
       "      <td>ABDIL MOIZ</td>\n",
       "      <td>CYBER SECURITY</td>\n",
       "      <td>22</td>\n",
       "      <td>26</td>\n",
       "      <td>Passed</td>\n",
       "    </tr>\n",
       "    <tr>\n",
       "      <th>1</th>\n",
       "      <td>5</td>\n",
       "      <td>MUNEEB UR REHMAN</td>\n",
       "      <td>CYBER SECURITY</td>\n",
       "      <td>22</td>\n",
       "      <td>16</td>\n",
       "      <td>Passed</td>\n",
       "    </tr>\n",
       "    <tr>\n",
       "      <th>2</th>\n",
       "      <td>7</td>\n",
       "      <td>SALMA AIJAZ</td>\n",
       "      <td>CYBER SECURITY</td>\n",
       "      <td>22</td>\n",
       "      <td>21</td>\n",
       "      <td>Passed</td>\n",
       "    </tr>\n",
       "    <tr>\n",
       "      <th>3</th>\n",
       "      <td>34</td>\n",
       "      <td>MATIULLAH KHAN</td>\n",
       "      <td>CYBER SECURITY</td>\n",
       "      <td>22</td>\n",
       "      <td>30</td>\n",
       "      <td>Failed</td>\n",
       "    </tr>\n",
       "    <tr>\n",
       "      <th>4</th>\n",
       "      <td>12</td>\n",
       "      <td>ALI RAZA</td>\n",
       "      <td>SOFTWARE ENGINEERING</td>\n",
       "      <td>23</td>\n",
       "      <td>22</td>\n",
       "      <td>Passed</td>\n",
       "    </tr>\n",
       "    <tr>\n",
       "      <th>5</th>\n",
       "      <td>15</td>\n",
       "      <td>SARA KHAN</td>\n",
       "      <td>SOFTWARE ENGINEERING</td>\n",
       "      <td>23</td>\n",
       "      <td>17</td>\n",
       "      <td>Passed</td>\n",
       "    </tr>\n",
       "    <tr>\n",
       "      <th>6</th>\n",
       "      <td>21</td>\n",
       "      <td>AHMED KHAN</td>\n",
       "      <td>INFORMATION TECHNOLOGY</td>\n",
       "      <td>24</td>\n",
       "      <td>22</td>\n",
       "      <td>Passed</td>\n",
       "    </tr>\n",
       "    <tr>\n",
       "      <th>7</th>\n",
       "      <td>22</td>\n",
       "      <td>FAIZA ALI</td>\n",
       "      <td>INFORMATION TECHNOLOGY</td>\n",
       "      <td>24</td>\n",
       "      <td>21</td>\n",
       "      <td>Failed</td>\n",
       "    </tr>\n",
       "    <tr>\n",
       "      <th>8</th>\n",
       "      <td>31</td>\n",
       "      <td>ZAINAB AHMED</td>\n",
       "      <td>COMPUTER SCIENCE</td>\n",
       "      <td>25</td>\n",
       "      <td>20</td>\n",
       "      <td>Passed</td>\n",
       "    </tr>\n",
       "    <tr>\n",
       "      <th>9</th>\n",
       "      <td>33</td>\n",
       "      <td>USMAN ALI</td>\n",
       "      <td>COMPUTER SCIENCE</td>\n",
       "      <td>25</td>\n",
       "      <td>32</td>\n",
       "      <td>Passed</td>\n",
       "    </tr>\n",
       "  </tbody>\n",
       "</table>\n",
       "</div>"
      ],
      "text/plain": [
       "   ROLL_NUMBER             NAMES              DEPARTMENT  BATCH  AGE  RESULT\n",
       "0            4        ABDIL MOIZ          CYBER SECURITY     22   26  Passed\n",
       "1            5  MUNEEB UR REHMAN          CYBER SECURITY     22   16  Passed\n",
       "2            7       SALMA AIJAZ          CYBER SECURITY     22   21  Passed\n",
       "3           34    MATIULLAH KHAN          CYBER SECURITY     22   30  Failed\n",
       "4           12          ALI RAZA    SOFTWARE ENGINEERING     23   22  Passed\n",
       "5           15         SARA KHAN    SOFTWARE ENGINEERING     23   17  Passed\n",
       "6           21        AHMED KHAN  INFORMATION TECHNOLOGY     24   22  Passed\n",
       "7           22         FAIZA ALI  INFORMATION TECHNOLOGY     24   21  Failed\n",
       "8           31      ZAINAB AHMED        COMPUTER SCIENCE     25   20  Passed\n",
       "9           33         USMAN ALI        COMPUTER SCIENCE     25   32  Passed"
      ]
     },
     "execution_count": 51,
     "metadata": {},
     "output_type": "execute_result"
    }
   ],
   "source": [
    "df"
   ]
  },
  {
   "cell_type": "code",
   "execution_count": 52,
   "id": "a380496a-1afc-489a-acbd-6323c1482296",
   "metadata": {},
   "outputs": [
    {
     "data": {
      "text/plain": [
       "32"
      ]
     },
     "execution_count": 52,
     "metadata": {},
     "output_type": "execute_result"
    }
   ],
   "source": [
    "df.AGE.max()"
   ]
  },
  {
   "cell_type": "code",
   "execution_count": 53,
   "id": "535ae85e-2241-4f7d-b853-dfc06221456b",
   "metadata": {},
   "outputs": [
    {
     "data": {
      "text/plain": [
       "16"
      ]
     },
     "execution_count": 53,
     "metadata": {},
     "output_type": "execute_result"
    }
   ],
   "source": [
    "df.AGE.min()"
   ]
  },
  {
   "cell_type": "code",
   "execution_count": 54,
   "id": "a79a82db-c18a-4694-8ca2-147db01c922c",
   "metadata": {},
   "outputs": [
    {
     "data": {
      "text/plain": [
       "9"
      ]
     },
     "execution_count": 54,
     "metadata": {},
     "output_type": "execute_result"
    }
   ],
   "source": [
    "df.AGE.argmax()"
   ]
  },
  {
   "cell_type": "code",
   "execution_count": 59,
   "id": "a3f66556-8126-4b6e-ae5b-56f9c6d5e731",
   "metadata": {},
   "outputs": [
    {
     "data": {
      "text/html": [
       "<div>\n",
       "<style scoped>\n",
       "    .dataframe tbody tr th:only-of-type {\n",
       "        vertical-align: middle;\n",
       "    }\n",
       "\n",
       "    .dataframe tbody tr th {\n",
       "        vertical-align: top;\n",
       "    }\n",
       "\n",
       "    .dataframe thead th {\n",
       "        text-align: right;\n",
       "    }\n",
       "</style>\n",
       "<table border=\"1\" class=\"dataframe\">\n",
       "  <thead>\n",
       "    <tr style=\"text-align: right;\">\n",
       "      <th></th>\n",
       "      <th>NAMES</th>\n",
       "      <th>DEPARTMENT</th>\n",
       "    </tr>\n",
       "  </thead>\n",
       "  <tbody>\n",
       "    <tr>\n",
       "      <th>0</th>\n",
       "      <td>ABDIL MOIZ</td>\n",
       "      <td>CYBER SECURITY</td>\n",
       "    </tr>\n",
       "    <tr>\n",
       "      <th>2</th>\n",
       "      <td>SALMA AIJAZ</td>\n",
       "      <td>CYBER SECURITY</td>\n",
       "    </tr>\n",
       "    <tr>\n",
       "      <th>3</th>\n",
       "      <td>MATIULLAH KHAN</td>\n",
       "      <td>CYBER SECURITY</td>\n",
       "    </tr>\n",
       "    <tr>\n",
       "      <th>4</th>\n",
       "      <td>ALI RAZA</td>\n",
       "      <td>SOFTWARE ENGINEERING</td>\n",
       "    </tr>\n",
       "    <tr>\n",
       "      <th>6</th>\n",
       "      <td>AHMED KHAN</td>\n",
       "      <td>INFORMATION TECHNOLOGY</td>\n",
       "    </tr>\n",
       "    <tr>\n",
       "      <th>7</th>\n",
       "      <td>FAIZA ALI</td>\n",
       "      <td>INFORMATION TECHNOLOGY</td>\n",
       "    </tr>\n",
       "    <tr>\n",
       "      <th>8</th>\n",
       "      <td>ZAINAB AHMED</td>\n",
       "      <td>COMPUTER SCIENCE</td>\n",
       "    </tr>\n",
       "    <tr>\n",
       "      <th>9</th>\n",
       "      <td>USMAN ALI</td>\n",
       "      <td>COMPUTER SCIENCE</td>\n",
       "    </tr>\n",
       "  </tbody>\n",
       "</table>\n",
       "</div>"
      ],
      "text/plain": [
       "            NAMES              DEPARTMENT\n",
       "0      ABDIL MOIZ          CYBER SECURITY\n",
       "2     SALMA AIJAZ          CYBER SECURITY\n",
       "3  MATIULLAH KHAN          CYBER SECURITY\n",
       "4        ALI RAZA    SOFTWARE ENGINEERING\n",
       "6      AHMED KHAN  INFORMATION TECHNOLOGY\n",
       "7       FAIZA ALI  INFORMATION TECHNOLOGY\n",
       "8    ZAINAB AHMED        COMPUTER SCIENCE\n",
       "9       USMAN ALI        COMPUTER SCIENCE"
      ]
     },
     "execution_count": 59,
     "metadata": {},
     "output_type": "execute_result"
    }
   ],
   "source": [
    "df[df.AGE >= 20][[\"NAMES\",\"DEPARTMENT\"]]"
   ]
  },
  {
   "cell_type": "code",
   "execution_count": null,
   "id": "1e2d95be-532b-407f-8da7-c3d4442df6ad",
   "metadata": {},
   "outputs": [],
   "source": []
  }
 ],
 "metadata": {
  "kernelspec": {
   "display_name": "Python 3 (ipykernel)",
   "language": "python",
   "name": "python3"
  },
  "language_info": {
   "codemirror_mode": {
    "name": "ipython",
    "version": 3
   },
   "file_extension": ".py",
   "mimetype": "text/x-python",
   "name": "python",
   "nbconvert_exporter": "python",
   "pygments_lexer": "ipython3",
   "version": "3.12.1"
  }
 },
 "nbformat": 4,
 "nbformat_minor": 5
}
