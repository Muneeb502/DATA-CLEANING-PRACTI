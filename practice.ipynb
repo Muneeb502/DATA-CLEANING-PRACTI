{
 "cells": [
  {
   "cell_type": "code",
   "execution_count": 6,
   "id": "8b76b201-1a45-4050-8576-66dc5bfa26cf",
   "metadata": {},
   "outputs": [],
   "source": [
    "import pandas as pd"
   ]
  },
  {
   "cell_type": "code",
   "execution_count": 7,
   "id": "a7a875b8-6777-40fc-9277-43c7245309a5",
   "metadata": {},
   "outputs": [],
   "source": [
    "import numpy as np"
   ]
  },
  {
   "cell_type": "code",
   "execution_count": 12,
   "id": "87b6dbcc-9857-4235-a424-4cb5bdbf8150",
   "metadata": {},
   "outputs": [],
   "source": [
    "s1 = pd.Series([2,4,8,16,32,64] , index=['onetime','twotime','threetime','fourtime','fivetime','sixtime'])\n"
   ]
  },
  {
   "cell_type": "code",
   "execution_count": 13,
   "id": "21c793ca-26ee-4508-94e9-bdeefd24bfd1",
   "metadata": {},
   "outputs": [
    {
     "data": {
      "text/plain": [
       "onetime       2\n",
       "twotime       4\n",
       "threetime     8\n",
       "fourtime     16\n",
       "fivetime     32\n",
       "sixtime      64\n",
       "dtype: int64"
      ]
     },
     "execution_count": 13,
     "metadata": {},
     "output_type": "execute_result"
    }
   ],
   "source": [
    "s1"
   ]
  },
  {
   "cell_type": "code",
   "execution_count": 14,
   "id": "00e264f6-c1fb-4df6-b843-05e1ea5efec6",
   "metadata": {},
   "outputs": [
    {
     "data": {
      "text/plain": [
       "array([ 2,  4,  8, 16, 32, 64], dtype=int64)"
      ]
     },
     "execution_count": 14,
     "metadata": {},
     "output_type": "execute_result"
    }
   ],
   "source": [
    "s1.values"
   ]
  },
  {
   "cell_type": "code",
   "execution_count": 15,
   "id": "655628b8-ae81-4a28-bfa0-4ef08096be2b",
   "metadata": {},
   "outputs": [
    {
     "data": {
      "text/plain": [
       "Index(['onetime', 'twotime', 'threetime', 'fourtime', 'fivetime', 'sixtime'], dtype='object')"
      ]
     },
     "execution_count": 15,
     "metadata": {},
     "output_type": "execute_result"
    }
   ],
   "source": [
    "s1.index"
   ]
  },
  {
   "cell_type": "markdown",
   "id": "ded8e8de-7349-401c-a9ad-479a7e6a5c51",
   "metadata": {},
   "source": [
    "# values with lables or index of series"
   ]
  },
  {
   "cell_type": "code",
   "execution_count": 18,
   "id": "2b7458cb-66a9-4140-95c1-815cb561dcf8",
   "metadata": {},
   "outputs": [
    {
     "data": {
      "text/plain": [
       "twotime      4\n",
       "threetime    8\n",
       "dtype: int64"
      ]
     },
     "execution_count": 18,
     "metadata": {},
     "output_type": "execute_result"
    }
   ],
   "source": [
    "s1[1:3]"
   ]
  },
  {
   "cell_type": "code",
   "execution_count": 19,
   "id": "9bd376ab-046f-45bd-8918-2d42f5448a24",
   "metadata": {},
   "outputs": [
    {
     "data": {
      "text/plain": [
       "array([4, 8], dtype=int64)"
      ]
     },
     "execution_count": 19,
     "metadata": {},
     "output_type": "execute_result"
    }
   ],
   "source": [
    "s1[1:3].values"
   ]
  },
  {
   "cell_type": "code",
   "execution_count": 20,
   "id": "49bc29d7-30a5-4d2c-bba0-b7ab55fd14e5",
   "metadata": {},
   "outputs": [
    {
     "data": {
      "text/plain": [
       "twotime       4\n",
       "threetime     8\n",
       "fourtime     16\n",
       "fivetime     32\n",
       "dtype: int64"
      ]
     },
     "execution_count": 20,
     "metadata": {},
     "output_type": "execute_result"
    }
   ],
   "source": [
    "s1[\"twotime\":\"fivetime\"]"
   ]
  },
  {
   "cell_type": "code",
   "execution_count": 21,
   "id": "d25478b0-39a2-4bba-beb3-f7ac4b58874a",
   "metadata": {},
   "outputs": [
    {
     "data": {
      "text/plain": [
       "array([ 4,  8, 16, 32], dtype=int64)"
      ]
     },
     "execution_count": 21,
     "metadata": {},
     "output_type": "execute_result"
    }
   ],
   "source": [
    "s1[\"twotime\":\"fivetime\"].values"
   ]
  },
  {
   "cell_type": "code",
   "execution_count": 73,
   "id": "a7a99c03-ecad-4704-a053-6f379b7a96a6",
   "metadata": {},
   "outputs": [],
   "source": [
    "students = [\n",
    "    {\"ROLL-NUMBER\": 4, \"NAME\": \"ABDIL MOIZ\", \"DEPARTMENT\": \"CYBER SECURITY\", \"BATCH\": 22, \"AGE\": 26, \"RESULT\": \"Passed\"},\n",
    "    {\"ROLL-NUMBER\": 5, \"NAME\": \"MUNEEB UR REHMAN\", \"DEPARTMENT\": \"CYBER SECURITY\", \"BATCH\": 22, \"AGE\": np.nan, \"RESULT\": \"Passed\"},\n",
    "    {\"ROLL-NUMBER\": 7, \"NAME\": \"SALMA AIJAZ\", \"DEPARTMENT\": \"CYBER SECURITY\", \"BATCH\": 22, \"AGE\": 21, \"RESULT\": \"Passed\"},\n",
    "    {\"ROLL-NUMBER\": 34, \"NAME\": \"MATIULLAH KHAN\", \"DEPARTMENT\": \"CYBER SECURITY\", \"BATCH\": 22, \"AGE\": 30, \"RESULT\": \"Failed\"},\n",
    "    {\"ROLL-NUMBER\": 12, \"NAME\": \"ALI RAZA\", \"DEPARTMENT\": \"SOFTWARE ENGINEERING\", \"BATCH\": 23, \"AGE\": np.nan, \"RESULT\": \"Passed\"},\n",
    "    {\"ROLL-NUMBER\": 15, \"NAME\": \"SARA KHAN\", \"DEPARTMENT\": \"SOFTWARE ENGINEERING\", \"BATCH\": 23, \"AGE\": 17, \"RESULT\": \"Passed\"},\n",
    "    {\"ROLL-NUMBER\": 21, \"NAME\": \"AHMED KHAN\", \"DEPARTMENT\": \"INFORMATION TECHNOLOGY\", \"BATCH\": 24, \"AGE\": 22, \"RESULT\": \"Passed\"},\n",
    "    {\"ROLL-NUMBER\": 22, \"NAME\": \"FAIZA ALI\", \"DEPARTMENT\": \"INFORMATION TECHNOLOGY\", \"BATCH\": 24, \"AGE\": 21, \"RESULT\": \"Failed\"},\n",
    "    {\"ROLL-NUMBER\": 31, \"NAME\": \"ZAINAB AHMED\", \"DEPARTMENT\": \"COMPUTER SCIENCE\", \"BATCH\": 25, \"AGE\": np.nan, \"RESULT\": \"Passed\"},\n",
    "    {\"ROLL-NUMBER\": 33, \"NAME\": \"USMAN ALI\", \"DEPARTMENT\": \"COMPUTER SCIENCE\", \"BATCH\": 25, \"AGE\": 32, \"RESULT\": \"Passed\"}\n",
    "]\n"
   ]
  },
  {
   "cell_type": "code",
   "execution_count": 74,
   "id": "d0c74e76-4bd9-4db6-8215-0fe7a9461d71",
   "metadata": {},
   "outputs": [],
   "source": [
    "df = pd.DataFrame(students)"
   ]
  },
  {
   "cell_type": "code",
   "execution_count": 75,
   "id": "eec57e4d-6531-4916-812a-7de0d6cb0bc1",
   "metadata": {},
   "outputs": [
    {
     "data": {
      "text/html": [
       "<div>\n",
       "<style scoped>\n",
       "    .dataframe tbody tr th:only-of-type {\n",
       "        vertical-align: middle;\n",
       "    }\n",
       "\n",
       "    .dataframe tbody tr th {\n",
       "        vertical-align: top;\n",
       "    }\n",
       "\n",
       "    .dataframe thead th {\n",
       "        text-align: right;\n",
       "    }\n",
       "</style>\n",
       "<table border=\"1\" class=\"dataframe\">\n",
       "  <thead>\n",
       "    <tr style=\"text-align: right;\">\n",
       "      <th></th>\n",
       "      <th>ROLL-NUMBER</th>\n",
       "      <th>NAME</th>\n",
       "      <th>DEPARTMENT</th>\n",
       "      <th>BATCH</th>\n",
       "      <th>AGE</th>\n",
       "      <th>RESULT</th>\n",
       "    </tr>\n",
       "  </thead>\n",
       "  <tbody>\n",
       "    <tr>\n",
       "      <th>0</th>\n",
       "      <td>4</td>\n",
       "      <td>ABDIL MOIZ</td>\n",
       "      <td>CYBER SECURITY</td>\n",
       "      <td>22</td>\n",
       "      <td>26.0</td>\n",
       "      <td>Passed</td>\n",
       "    </tr>\n",
       "    <tr>\n",
       "      <th>1</th>\n",
       "      <td>5</td>\n",
       "      <td>MUNEEB UR REHMAN</td>\n",
       "      <td>CYBER SECURITY</td>\n",
       "      <td>22</td>\n",
       "      <td>NaN</td>\n",
       "      <td>Passed</td>\n",
       "    </tr>\n",
       "    <tr>\n",
       "      <th>2</th>\n",
       "      <td>7</td>\n",
       "      <td>SALMA AIJAZ</td>\n",
       "      <td>CYBER SECURITY</td>\n",
       "      <td>22</td>\n",
       "      <td>21.0</td>\n",
       "      <td>Passed</td>\n",
       "    </tr>\n",
       "    <tr>\n",
       "      <th>3</th>\n",
       "      <td>34</td>\n",
       "      <td>MATIULLAH KHAN</td>\n",
       "      <td>CYBER SECURITY</td>\n",
       "      <td>22</td>\n",
       "      <td>30.0</td>\n",
       "      <td>Failed</td>\n",
       "    </tr>\n",
       "    <tr>\n",
       "      <th>4</th>\n",
       "      <td>12</td>\n",
       "      <td>ALI RAZA</td>\n",
       "      <td>SOFTWARE ENGINEERING</td>\n",
       "      <td>23</td>\n",
       "      <td>NaN</td>\n",
       "      <td>Passed</td>\n",
       "    </tr>\n",
       "    <tr>\n",
       "      <th>5</th>\n",
       "      <td>15</td>\n",
       "      <td>SARA KHAN</td>\n",
       "      <td>SOFTWARE ENGINEERING</td>\n",
       "      <td>23</td>\n",
       "      <td>17.0</td>\n",
       "      <td>Passed</td>\n",
       "    </tr>\n",
       "    <tr>\n",
       "      <th>6</th>\n",
       "      <td>21</td>\n",
       "      <td>AHMED KHAN</td>\n",
       "      <td>INFORMATION TECHNOLOGY</td>\n",
       "      <td>24</td>\n",
       "      <td>22.0</td>\n",
       "      <td>Passed</td>\n",
       "    </tr>\n",
       "    <tr>\n",
       "      <th>7</th>\n",
       "      <td>22</td>\n",
       "      <td>FAIZA ALI</td>\n",
       "      <td>INFORMATION TECHNOLOGY</td>\n",
       "      <td>24</td>\n",
       "      <td>21.0</td>\n",
       "      <td>Failed</td>\n",
       "    </tr>\n",
       "    <tr>\n",
       "      <th>8</th>\n",
       "      <td>31</td>\n",
       "      <td>ZAINAB AHMED</td>\n",
       "      <td>COMPUTER SCIENCE</td>\n",
       "      <td>25</td>\n",
       "      <td>NaN</td>\n",
       "      <td>Passed</td>\n",
       "    </tr>\n",
       "    <tr>\n",
       "      <th>9</th>\n",
       "      <td>33</td>\n",
       "      <td>USMAN ALI</td>\n",
       "      <td>COMPUTER SCIENCE</td>\n",
       "      <td>25</td>\n",
       "      <td>32.0</td>\n",
       "      <td>Passed</td>\n",
       "    </tr>\n",
       "  </tbody>\n",
       "</table>\n",
       "</div>"
      ],
      "text/plain": [
       "   ROLL-NUMBER              NAME              DEPARTMENT  BATCH   AGE  RESULT\n",
       "0            4        ABDIL MOIZ          CYBER SECURITY     22  26.0  Passed\n",
       "1            5  MUNEEB UR REHMAN          CYBER SECURITY     22   NaN  Passed\n",
       "2            7       SALMA AIJAZ          CYBER SECURITY     22  21.0  Passed\n",
       "3           34    MATIULLAH KHAN          CYBER SECURITY     22  30.0  Failed\n",
       "4           12          ALI RAZA    SOFTWARE ENGINEERING     23   NaN  Passed\n",
       "5           15         SARA KHAN    SOFTWARE ENGINEERING     23  17.0  Passed\n",
       "6           21        AHMED KHAN  INFORMATION TECHNOLOGY     24  22.0  Passed\n",
       "7           22         FAIZA ALI  INFORMATION TECHNOLOGY     24  21.0  Failed\n",
       "8           31      ZAINAB AHMED        COMPUTER SCIENCE     25   NaN  Passed\n",
       "9           33         USMAN ALI        COMPUTER SCIENCE     25  32.0  Passed"
      ]
     },
     "execution_count": 75,
     "metadata": {},
     "output_type": "execute_result"
    }
   ],
   "source": [
    "df"
   ]
  },
  {
   "cell_type": "code",
   "execution_count": 76,
   "id": "d36766a4-685f-4c50-a136-dff2cb2948d1",
   "metadata": {},
   "outputs": [
    {
     "data": {
      "text/plain": [
       "0     4\n",
       "1     5\n",
       "2     7\n",
       "3    34\n",
       "4    12\n",
       "5    15\n",
       "6    21\n",
       "7    22\n",
       "8    31\n",
       "9    33\n",
       "Name: ROLL-NUMBER, dtype: int64"
      ]
     },
     "execution_count": 76,
     "metadata": {},
     "output_type": "execute_result"
    }
   ],
   "source": [
    "df[\"ROLL-NUMBER\"]   # selecting one colum no it will be series "
   ]
  },
  {
   "cell_type": "code",
   "execution_count": 77,
   "id": "1ad7d351-cbb9-47bb-bb4c-f76fb367099b",
   "metadata": {},
   "outputs": [
    {
     "data": {
      "text/plain": [
       "pandas.core.series.Series"
      ]
     },
     "execution_count": 77,
     "metadata": {},
     "output_type": "execute_result"
    }
   ],
   "source": [
    "type(df[\"ROLL-NUMBER\"])"
   ]
  },
  {
   "cell_type": "code",
   "execution_count": 78,
   "id": "558ee592-c204-4dac-b8fb-27db9c2a4285",
   "metadata": {},
   "outputs": [
    {
     "data": {
      "text/html": [
       "<div>\n",
       "<style scoped>\n",
       "    .dataframe tbody tr th:only-of-type {\n",
       "        vertical-align: middle;\n",
       "    }\n",
       "\n",
       "    .dataframe tbody tr th {\n",
       "        vertical-align: top;\n",
       "    }\n",
       "\n",
       "    .dataframe thead th {\n",
       "        text-align: right;\n",
       "    }\n",
       "</style>\n",
       "<table border=\"1\" class=\"dataframe\">\n",
       "  <thead>\n",
       "    <tr style=\"text-align: right;\">\n",
       "      <th></th>\n",
       "      <th>ROLL-NUMBER</th>\n",
       "      <th>BATCH</th>\n",
       "    </tr>\n",
       "  </thead>\n",
       "  <tbody>\n",
       "    <tr>\n",
       "      <th>0</th>\n",
       "      <td>4</td>\n",
       "      <td>22</td>\n",
       "    </tr>\n",
       "    <tr>\n",
       "      <th>1</th>\n",
       "      <td>5</td>\n",
       "      <td>22</td>\n",
       "    </tr>\n",
       "    <tr>\n",
       "      <th>2</th>\n",
       "      <td>7</td>\n",
       "      <td>22</td>\n",
       "    </tr>\n",
       "    <tr>\n",
       "      <th>3</th>\n",
       "      <td>34</td>\n",
       "      <td>22</td>\n",
       "    </tr>\n",
       "    <tr>\n",
       "      <th>4</th>\n",
       "      <td>12</td>\n",
       "      <td>23</td>\n",
       "    </tr>\n",
       "    <tr>\n",
       "      <th>5</th>\n",
       "      <td>15</td>\n",
       "      <td>23</td>\n",
       "    </tr>\n",
       "    <tr>\n",
       "      <th>6</th>\n",
       "      <td>21</td>\n",
       "      <td>24</td>\n",
       "    </tr>\n",
       "    <tr>\n",
       "      <th>7</th>\n",
       "      <td>22</td>\n",
       "      <td>24</td>\n",
       "    </tr>\n",
       "    <tr>\n",
       "      <th>8</th>\n",
       "      <td>31</td>\n",
       "      <td>25</td>\n",
       "    </tr>\n",
       "    <tr>\n",
       "      <th>9</th>\n",
       "      <td>33</td>\n",
       "      <td>25</td>\n",
       "    </tr>\n",
       "  </tbody>\n",
       "</table>\n",
       "</div>"
      ],
      "text/plain": [
       "   ROLL-NUMBER  BATCH\n",
       "0            4     22\n",
       "1            5     22\n",
       "2            7     22\n",
       "3           34     22\n",
       "4           12     23\n",
       "5           15     23\n",
       "6           21     24\n",
       "7           22     24\n",
       "8           31     25\n",
       "9           33     25"
      ]
     },
     "execution_count": 78,
     "metadata": {},
     "output_type": "execute_result"
    }
   ],
   "source": [
    "#now selecting two or more cloums ---------for this you will have to make it a list \n",
    "#df[\"ROLL-NUMBER\",\"BATCH\"]  this wrong implementation\n",
    "df[[\"ROLL-NUMBER\",\"BATCH\"]]"
   ]
  },
  {
   "cell_type": "markdown",
   "id": "05416afa-b855-4d13-92b3-eb2109da4237",
   "metadata": {},
   "source": [
    "# how to rename the cloumns name like if any column name have space, capitals letter "
   ]
  },
  {
   "cell_type": "code",
   "execution_count": 79,
   "id": "f5f01bcb-74f8-4c4b-9c84-3b1176e1e122",
   "metadata": {},
   "outputs": [],
   "source": [
    "#i want to rename the column [name]\n",
    "df = df.rename(columns={\"NAME\":\"NAMES\",\"ROLL-NUMBER\":\"ROLL_NUMBER\"})"
   ]
  },
  {
   "cell_type": "code",
   "execution_count": 80,
   "id": "c6af0c86-c71f-4ef0-8fce-20cd79496236",
   "metadata": {
    "scrolled": true
   },
   "outputs": [
    {
     "data": {
      "text/html": [
       "<div>\n",
       "<style scoped>\n",
       "    .dataframe tbody tr th:only-of-type {\n",
       "        vertical-align: middle;\n",
       "    }\n",
       "\n",
       "    .dataframe tbody tr th {\n",
       "        vertical-align: top;\n",
       "    }\n",
       "\n",
       "    .dataframe thead th {\n",
       "        text-align: right;\n",
       "    }\n",
       "</style>\n",
       "<table border=\"1\" class=\"dataframe\">\n",
       "  <thead>\n",
       "    <tr style=\"text-align: right;\">\n",
       "      <th></th>\n",
       "      <th>ROLL_NUMBER</th>\n",
       "      <th>NAMES</th>\n",
       "      <th>DEPARTMENT</th>\n",
       "      <th>BATCH</th>\n",
       "      <th>AGE</th>\n",
       "      <th>RESULT</th>\n",
       "    </tr>\n",
       "  </thead>\n",
       "  <tbody>\n",
       "    <tr>\n",
       "      <th>0</th>\n",
       "      <td>4</td>\n",
       "      <td>ABDIL MOIZ</td>\n",
       "      <td>CYBER SECURITY</td>\n",
       "      <td>22</td>\n",
       "      <td>26.0</td>\n",
       "      <td>Passed</td>\n",
       "    </tr>\n",
       "    <tr>\n",
       "      <th>1</th>\n",
       "      <td>5</td>\n",
       "      <td>MUNEEB UR REHMAN</td>\n",
       "      <td>CYBER SECURITY</td>\n",
       "      <td>22</td>\n",
       "      <td>NaN</td>\n",
       "      <td>Passed</td>\n",
       "    </tr>\n",
       "    <tr>\n",
       "      <th>2</th>\n",
       "      <td>7</td>\n",
       "      <td>SALMA AIJAZ</td>\n",
       "      <td>CYBER SECURITY</td>\n",
       "      <td>22</td>\n",
       "      <td>21.0</td>\n",
       "      <td>Passed</td>\n",
       "    </tr>\n",
       "    <tr>\n",
       "      <th>3</th>\n",
       "      <td>34</td>\n",
       "      <td>MATIULLAH KHAN</td>\n",
       "      <td>CYBER SECURITY</td>\n",
       "      <td>22</td>\n",
       "      <td>30.0</td>\n",
       "      <td>Failed</td>\n",
       "    </tr>\n",
       "    <tr>\n",
       "      <th>4</th>\n",
       "      <td>12</td>\n",
       "      <td>ALI RAZA</td>\n",
       "      <td>SOFTWARE ENGINEERING</td>\n",
       "      <td>23</td>\n",
       "      <td>NaN</td>\n",
       "      <td>Passed</td>\n",
       "    </tr>\n",
       "    <tr>\n",
       "      <th>5</th>\n",
       "      <td>15</td>\n",
       "      <td>SARA KHAN</td>\n",
       "      <td>SOFTWARE ENGINEERING</td>\n",
       "      <td>23</td>\n",
       "      <td>17.0</td>\n",
       "      <td>Passed</td>\n",
       "    </tr>\n",
       "    <tr>\n",
       "      <th>6</th>\n",
       "      <td>21</td>\n",
       "      <td>AHMED KHAN</td>\n",
       "      <td>INFORMATION TECHNOLOGY</td>\n",
       "      <td>24</td>\n",
       "      <td>22.0</td>\n",
       "      <td>Passed</td>\n",
       "    </tr>\n",
       "    <tr>\n",
       "      <th>7</th>\n",
       "      <td>22</td>\n",
       "      <td>FAIZA ALI</td>\n",
       "      <td>INFORMATION TECHNOLOGY</td>\n",
       "      <td>24</td>\n",
       "      <td>21.0</td>\n",
       "      <td>Failed</td>\n",
       "    </tr>\n",
       "    <tr>\n",
       "      <th>8</th>\n",
       "      <td>31</td>\n",
       "      <td>ZAINAB AHMED</td>\n",
       "      <td>COMPUTER SCIENCE</td>\n",
       "      <td>25</td>\n",
       "      <td>NaN</td>\n",
       "      <td>Passed</td>\n",
       "    </tr>\n",
       "    <tr>\n",
       "      <th>9</th>\n",
       "      <td>33</td>\n",
       "      <td>USMAN ALI</td>\n",
       "      <td>COMPUTER SCIENCE</td>\n",
       "      <td>25</td>\n",
       "      <td>32.0</td>\n",
       "      <td>Passed</td>\n",
       "    </tr>\n",
       "  </tbody>\n",
       "</table>\n",
       "</div>"
      ],
      "text/plain": [
       "   ROLL_NUMBER             NAMES              DEPARTMENT  BATCH   AGE  RESULT\n",
       "0            4        ABDIL MOIZ          CYBER SECURITY     22  26.0  Passed\n",
       "1            5  MUNEEB UR REHMAN          CYBER SECURITY     22   NaN  Passed\n",
       "2            7       SALMA AIJAZ          CYBER SECURITY     22  21.0  Passed\n",
       "3           34    MATIULLAH KHAN          CYBER SECURITY     22  30.0  Failed\n",
       "4           12          ALI RAZA    SOFTWARE ENGINEERING     23   NaN  Passed\n",
       "5           15         SARA KHAN    SOFTWARE ENGINEERING     23  17.0  Passed\n",
       "6           21        AHMED KHAN  INFORMATION TECHNOLOGY     24  22.0  Passed\n",
       "7           22         FAIZA ALI  INFORMATION TECHNOLOGY     24  21.0  Failed\n",
       "8           31      ZAINAB AHMED        COMPUTER SCIENCE     25   NaN  Passed\n",
       "9           33         USMAN ALI        COMPUTER SCIENCE     25  32.0  Passed"
      ]
     },
     "execution_count": 80,
     "metadata": {},
     "output_type": "execute_result"
    }
   ],
   "source": [
    "df"
   ]
  },
  {
   "cell_type": "code",
   "execution_count": 81,
   "id": "a380496a-1afc-489a-acbd-6323c1482296",
   "metadata": {},
   "outputs": [
    {
     "data": {
      "text/plain": [
       "32.0"
      ]
     },
     "execution_count": 81,
     "metadata": {},
     "output_type": "execute_result"
    }
   ],
   "source": [
    "df.AGE.max()"
   ]
  },
  {
   "cell_type": "code",
   "execution_count": 82,
   "id": "535ae85e-2241-4f7d-b853-dfc06221456b",
   "metadata": {},
   "outputs": [
    {
     "data": {
      "text/plain": [
       "17.0"
      ]
     },
     "execution_count": 82,
     "metadata": {},
     "output_type": "execute_result"
    }
   ],
   "source": [
    "df.AGE.min()"
   ]
  },
  {
   "cell_type": "code",
   "execution_count": 83,
   "id": "a79a82db-c18a-4694-8ca2-147db01c922c",
   "metadata": {},
   "outputs": [
    {
     "data": {
      "text/plain": [
       "9"
      ]
     },
     "execution_count": 83,
     "metadata": {},
     "output_type": "execute_result"
    }
   ],
   "source": [
    "df.AGE.argmax()"
   ]
  },
  {
   "cell_type": "code",
   "execution_count": 84,
   "id": "a3f66556-8126-4b6e-ae5b-56f9c6d5e731",
   "metadata": {},
   "outputs": [
    {
     "data": {
      "text/html": [
       "<div>\n",
       "<style scoped>\n",
       "    .dataframe tbody tr th:only-of-type {\n",
       "        vertical-align: middle;\n",
       "    }\n",
       "\n",
       "    .dataframe tbody tr th {\n",
       "        vertical-align: top;\n",
       "    }\n",
       "\n",
       "    .dataframe thead th {\n",
       "        text-align: right;\n",
       "    }\n",
       "</style>\n",
       "<table border=\"1\" class=\"dataframe\">\n",
       "  <thead>\n",
       "    <tr style=\"text-align: right;\">\n",
       "      <th></th>\n",
       "      <th>NAMES</th>\n",
       "      <th>DEPARTMENT</th>\n",
       "    </tr>\n",
       "  </thead>\n",
       "  <tbody>\n",
       "    <tr>\n",
       "      <th>0</th>\n",
       "      <td>ABDIL MOIZ</td>\n",
       "      <td>CYBER SECURITY</td>\n",
       "    </tr>\n",
       "    <tr>\n",
       "      <th>2</th>\n",
       "      <td>SALMA AIJAZ</td>\n",
       "      <td>CYBER SECURITY</td>\n",
       "    </tr>\n",
       "    <tr>\n",
       "      <th>3</th>\n",
       "      <td>MATIULLAH KHAN</td>\n",
       "      <td>CYBER SECURITY</td>\n",
       "    </tr>\n",
       "    <tr>\n",
       "      <th>6</th>\n",
       "      <td>AHMED KHAN</td>\n",
       "      <td>INFORMATION TECHNOLOGY</td>\n",
       "    </tr>\n",
       "    <tr>\n",
       "      <th>7</th>\n",
       "      <td>FAIZA ALI</td>\n",
       "      <td>INFORMATION TECHNOLOGY</td>\n",
       "    </tr>\n",
       "    <tr>\n",
       "      <th>9</th>\n",
       "      <td>USMAN ALI</td>\n",
       "      <td>COMPUTER SCIENCE</td>\n",
       "    </tr>\n",
       "  </tbody>\n",
       "</table>\n",
       "</div>"
      ],
      "text/plain": [
       "            NAMES              DEPARTMENT\n",
       "0      ABDIL MOIZ          CYBER SECURITY\n",
       "2     SALMA AIJAZ          CYBER SECURITY\n",
       "3  MATIULLAH KHAN          CYBER SECURITY\n",
       "6      AHMED KHAN  INFORMATION TECHNOLOGY\n",
       "7       FAIZA ALI  INFORMATION TECHNOLOGY\n",
       "9       USMAN ALI        COMPUTER SCIENCE"
      ]
     },
     "execution_count": 84,
     "metadata": {},
     "output_type": "execute_result"
    }
   ],
   "source": [
    "df[df.AGE >= 20][[\"NAMES\",\"DEPARTMENT\"]]"
   ]
  },
  {
   "cell_type": "code",
   "execution_count": 85,
   "id": "1e2d95be-532b-407f-8da7-c3d4442df6ad",
   "metadata": {},
   "outputs": [
    {
     "data": {
      "text/plain": [
       "0    False\n",
       "1     True\n",
       "2    False\n",
       "3    False\n",
       "4     True\n",
       "5    False\n",
       "6    False\n",
       "7    False\n",
       "8     True\n",
       "9    False\n",
       "Name: AGE, dtype: bool"
      ]
     },
     "execution_count": 85,
     "metadata": {},
     "output_type": "execute_result"
    }
   ],
   "source": [
    "df.AGE.isnull()"
   ]
  },
  {
   "cell_type": "code",
   "execution_count": 86,
   "id": "5c78aba2-bcdf-4731-945c-6fb57d9c08d3",
   "metadata": {},
   "outputs": [
    {
     "data": {
      "text/plain": [
       "3"
      ]
     },
     "execution_count": 86,
     "metadata": {},
     "output_type": "execute_result"
    }
   ],
   "source": [
    "df.AGE.isnull().sum()"
   ]
  },
  {
   "cell_type": "code",
   "execution_count": 87,
   "id": "97558369-932e-4da1-bbc6-5a6a4d3249eb",
   "metadata": {},
   "outputs": [
    {
     "data": {
      "text/plain": [
       "array(['CYBER SECURITY', 'SOFTWARE ENGINEERING', 'INFORMATION TECHNOLOGY',\n",
       "       'COMPUTER SCIENCE'], dtype=object)"
      ]
     },
     "execution_count": 87,
     "metadata": {},
     "output_type": "execute_result"
    }
   ],
   "source": [
    "df.DEPARTMENT.unique()"
   ]
  },
  {
   "cell_type": "code",
   "execution_count": 90,
   "id": "6f4b0b2b-29b4-4a26-ab9b-f3a05c234bab",
   "metadata": {},
   "outputs": [
    {
     "data": {
      "text/plain": [
       "DEPARTMENT\n",
       "CYBER SECURITY            4\n",
       "SOFTWARE ENGINEERING      2\n",
       "INFORMATION TECHNOLOGY    2\n",
       "COMPUTER SCIENCE          2\n",
       "Name: count, dtype: int64"
      ]
     },
     "execution_count": 90,
     "metadata": {},
     "output_type": "execute_result"
    }
   ],
   "source": [
    "df.DEPARTMENT.value_counts(dropna=True)"
   ]
  },
  {
   "cell_type": "code",
   "execution_count": 91,
   "id": "cdd1cf39-95e4-4c28-adbf-56e89d249a11",
   "metadata": {},
   "outputs": [
    {
     "data": {
      "text/plain": [
       "array([22, 23, 24, 25], dtype=int64)"
      ]
     },
     "execution_count": 91,
     "metadata": {},
     "output_type": "execute_result"
    }
   ],
   "source": [
    "df.BATCH.unique()\n"
   ]
  },
  {
   "cell_type": "code",
   "execution_count": 92,
   "id": "63b36e68-edda-4811-b99e-ab0cb89d9bc1",
   "metadata": {},
   "outputs": [
    {
     "data": {
      "text/plain": [
       "BATCH\n",
       "22    4\n",
       "23    2\n",
       "24    2\n",
       "25    2\n",
       "Name: count, dtype: int64"
      ]
     },
     "execution_count": 92,
     "metadata": {},
     "output_type": "execute_result"
    }
   ],
   "source": [
    "df.BATCH.value_counts()"
   ]
  },
  {
   "cell_type": "code",
   "execution_count": 97,
   "id": "605e29c7-b96b-4f9b-ba1b-67fc5fbf1279",
   "metadata": {},
   "outputs": [],
   "source": [
    "sales = pd.read_excel(\"SaleData.xlsx\")"
   ]
  },
  {
   "cell_type": "code",
   "execution_count": 98,
   "id": "ed4d0cc7-78cf-4875-a958-9ab7656c643e",
   "metadata": {},
   "outputs": [
    {
     "data": {
      "text/html": [
       "<div>\n",
       "<style scoped>\n",
       "    .dataframe tbody tr th:only-of-type {\n",
       "        vertical-align: middle;\n",
       "    }\n",
       "\n",
       "    .dataframe tbody tr th {\n",
       "        vertical-align: top;\n",
       "    }\n",
       "\n",
       "    .dataframe thead th {\n",
       "        text-align: right;\n",
       "    }\n",
       "</style>\n",
       "<table border=\"1\" class=\"dataframe\">\n",
       "  <thead>\n",
       "    <tr style=\"text-align: right;\">\n",
       "      <th></th>\n",
       "      <th>OrderDate</th>\n",
       "      <th>Region</th>\n",
       "      <th>Manager</th>\n",
       "      <th>SalesMan</th>\n",
       "      <th>Item</th>\n",
       "      <th>Units</th>\n",
       "      <th>Unit_price</th>\n",
       "      <th>Sale_amt</th>\n",
       "    </tr>\n",
       "  </thead>\n",
       "  <tbody>\n",
       "    <tr>\n",
       "      <th>0</th>\n",
       "      <td>2018-01-06</td>\n",
       "      <td>East</td>\n",
       "      <td>Martha</td>\n",
       "      <td>Alexander</td>\n",
       "      <td>Television</td>\n",
       "      <td>95.00</td>\n",
       "      <td>1198.000</td>\n",
       "      <td>113810.00</td>\n",
       "    </tr>\n",
       "    <tr>\n",
       "      <th>1</th>\n",
       "      <td>2018-01-23</td>\n",
       "      <td>Central</td>\n",
       "      <td>Hermann</td>\n",
       "      <td>Shelli</td>\n",
       "      <td>Home Theater</td>\n",
       "      <td>50.00</td>\n",
       "      <td>500.000</td>\n",
       "      <td>25000.00</td>\n",
       "    </tr>\n",
       "    <tr>\n",
       "      <th>2</th>\n",
       "      <td>2018-02-09</td>\n",
       "      <td>Central</td>\n",
       "      <td>Hermann</td>\n",
       "      <td>Luis</td>\n",
       "      <td>Television</td>\n",
       "      <td>36.00</td>\n",
       "      <td>1198.000</td>\n",
       "      <td>43128.00</td>\n",
       "    </tr>\n",
       "    <tr>\n",
       "      <th>3</th>\n",
       "      <td>2018-02-26</td>\n",
       "      <td>Central</td>\n",
       "      <td>Timothy</td>\n",
       "      <td>David</td>\n",
       "      <td>Cell Phone</td>\n",
       "      <td>27.00</td>\n",
       "      <td>225.000</td>\n",
       "      <td>6075.00</td>\n",
       "    </tr>\n",
       "    <tr>\n",
       "      <th>4</th>\n",
       "      <td>2018-03-15</td>\n",
       "      <td>West</td>\n",
       "      <td>Timothy</td>\n",
       "      <td>Stephen</td>\n",
       "      <td>Television</td>\n",
       "      <td>56.00</td>\n",
       "      <td>1198.000</td>\n",
       "      <td>67088.00</td>\n",
       "    </tr>\n",
       "    <tr>\n",
       "      <th>5</th>\n",
       "      <td>2018-04-01</td>\n",
       "      <td>East</td>\n",
       "      <td>Martha</td>\n",
       "      <td>Alexander</td>\n",
       "      <td>Home Theater</td>\n",
       "      <td>60.00</td>\n",
       "      <td>500.000</td>\n",
       "      <td>30000.00</td>\n",
       "    </tr>\n",
       "    <tr>\n",
       "      <th>6</th>\n",
       "      <td>2018-04-18</td>\n",
       "      <td>Central</td>\n",
       "      <td>Martha</td>\n",
       "      <td>Steven</td>\n",
       "      <td>Television</td>\n",
       "      <td>75.00</td>\n",
       "      <td>1198.000</td>\n",
       "      <td>89850.00</td>\n",
       "    </tr>\n",
       "    <tr>\n",
       "      <th>7</th>\n",
       "      <td>2018-05-05</td>\n",
       "      <td>Central</td>\n",
       "      <td>Hermann</td>\n",
       "      <td>Luis</td>\n",
       "      <td>Television</td>\n",
       "      <td>90.00</td>\n",
       "      <td>1198.000</td>\n",
       "      <td>107820.00</td>\n",
       "    </tr>\n",
       "    <tr>\n",
       "      <th>8</th>\n",
       "      <td>2018-05-22</td>\n",
       "      <td>West</td>\n",
       "      <td>Douglas</td>\n",
       "      <td>Michael</td>\n",
       "      <td>Television</td>\n",
       "      <td>32.00</td>\n",
       "      <td>1198.000</td>\n",
       "      <td>38336.00</td>\n",
       "    </tr>\n",
       "    <tr>\n",
       "      <th>9</th>\n",
       "      <td>2018-06-08</td>\n",
       "      <td>East</td>\n",
       "      <td>Martha</td>\n",
       "      <td>Alexander</td>\n",
       "      <td>Home Theater</td>\n",
       "      <td>60.00</td>\n",
       "      <td>500.000</td>\n",
       "      <td>30000.00</td>\n",
       "    </tr>\n",
       "    <tr>\n",
       "      <th>10</th>\n",
       "      <td>2018-06-25</td>\n",
       "      <td>Central</td>\n",
       "      <td>Hermann</td>\n",
       "      <td>Sigal</td>\n",
       "      <td>Television</td>\n",
       "      <td>90.00</td>\n",
       "      <td>1198.000</td>\n",
       "      <td>107820.00</td>\n",
       "    </tr>\n",
       "    <tr>\n",
       "      <th>11</th>\n",
       "      <td>2018-07-12</td>\n",
       "      <td>East</td>\n",
       "      <td>Martha</td>\n",
       "      <td>Diana</td>\n",
       "      <td>Home Theater</td>\n",
       "      <td>29.00</td>\n",
       "      <td>500.000</td>\n",
       "      <td>14500.00</td>\n",
       "    </tr>\n",
       "    <tr>\n",
       "      <th>12</th>\n",
       "      <td>2018-07-29</td>\n",
       "      <td>East</td>\n",
       "      <td>Douglas</td>\n",
       "      <td>Karen</td>\n",
       "      <td>Home Theater</td>\n",
       "      <td>81.00</td>\n",
       "      <td>500.000</td>\n",
       "      <td>40500.00</td>\n",
       "    </tr>\n",
       "    <tr>\n",
       "      <th>13</th>\n",
       "      <td>2018-08-15</td>\n",
       "      <td>East</td>\n",
       "      <td>Martha</td>\n",
       "      <td>Alexander</td>\n",
       "      <td>Television</td>\n",
       "      <td>35.00</td>\n",
       "      <td>1198.000</td>\n",
       "      <td>41930.00</td>\n",
       "    </tr>\n",
       "    <tr>\n",
       "      <th>14</th>\n",
       "      <td>2018-09-01</td>\n",
       "      <td>Central</td>\n",
       "      <td>Douglas</td>\n",
       "      <td>John</td>\n",
       "      <td>Desk</td>\n",
       "      <td>2.00</td>\n",
       "      <td>125.000</td>\n",
       "      <td>250.00</td>\n",
       "    </tr>\n",
       "    <tr>\n",
       "      <th>15</th>\n",
       "      <td>2018-09-18</td>\n",
       "      <td>East</td>\n",
       "      <td>Martha</td>\n",
       "      <td>Alexander</td>\n",
       "      <td>Video Games</td>\n",
       "      <td>16.00</td>\n",
       "      <td>58.500</td>\n",
       "      <td>936.00</td>\n",
       "    </tr>\n",
       "    <tr>\n",
       "      <th>16</th>\n",
       "      <td>2018-10-05</td>\n",
       "      <td>Central</td>\n",
       "      <td>Hermann</td>\n",
       "      <td>Sigal</td>\n",
       "      <td>Home Theater</td>\n",
       "      <td>28.00</td>\n",
       "      <td>500.000</td>\n",
       "      <td>14000.00</td>\n",
       "    </tr>\n",
       "    <tr>\n",
       "      <th>17</th>\n",
       "      <td>2018-10-22</td>\n",
       "      <td>East</td>\n",
       "      <td>Martha</td>\n",
       "      <td>Alexander</td>\n",
       "      <td>Cell Phone</td>\n",
       "      <td>64.00</td>\n",
       "      <td>225.000</td>\n",
       "      <td>14400.00</td>\n",
       "    </tr>\n",
       "    <tr>\n",
       "      <th>18</th>\n",
       "      <td>2018-11-08</td>\n",
       "      <td>East</td>\n",
       "      <td>Douglas</td>\n",
       "      <td>Karen</td>\n",
       "      <td>Cell Phone</td>\n",
       "      <td>15.00</td>\n",
       "      <td>225.000</td>\n",
       "      <td>3375.00</td>\n",
       "    </tr>\n",
       "    <tr>\n",
       "      <th>19</th>\n",
       "      <td>2018-11-25</td>\n",
       "      <td>Central</td>\n",
       "      <td>Hermann</td>\n",
       "      <td>Shelli</td>\n",
       "      <td>Video Games</td>\n",
       "      <td>96.00</td>\n",
       "      <td>58.500</td>\n",
       "      <td>5616.00</td>\n",
       "    </tr>\n",
       "    <tr>\n",
       "      <th>20</th>\n",
       "      <td>2018-12-12</td>\n",
       "      <td>Central</td>\n",
       "      <td>Douglas</td>\n",
       "      <td>John</td>\n",
       "      <td>Television</td>\n",
       "      <td>67.00</td>\n",
       "      <td>1198.000</td>\n",
       "      <td>80266.00</td>\n",
       "    </tr>\n",
       "    <tr>\n",
       "      <th>21</th>\n",
       "      <td>2018-12-29</td>\n",
       "      <td>East</td>\n",
       "      <td>Douglas</td>\n",
       "      <td>Karen</td>\n",
       "      <td>Video Games</td>\n",
       "      <td>74.00</td>\n",
       "      <td>58.500</td>\n",
       "      <td>4329.00</td>\n",
       "    </tr>\n",
       "    <tr>\n",
       "      <th>22</th>\n",
       "      <td>2019-01-15</td>\n",
       "      <td>Central</td>\n",
       "      <td>Timothy</td>\n",
       "      <td>David</td>\n",
       "      <td>Home Theater</td>\n",
       "      <td>46.00</td>\n",
       "      <td>500.000</td>\n",
       "      <td>23000.00</td>\n",
       "    </tr>\n",
       "    <tr>\n",
       "      <th>23</th>\n",
       "      <td>2019-02-01</td>\n",
       "      <td>Central</td>\n",
       "      <td>Douglas</td>\n",
       "      <td>John</td>\n",
       "      <td>Home Theater</td>\n",
       "      <td>87.00</td>\n",
       "      <td>500.000</td>\n",
       "      <td>43500.00</td>\n",
       "    </tr>\n",
       "    <tr>\n",
       "      <th>24</th>\n",
       "      <td>2019-02-18</td>\n",
       "      <td>East</td>\n",
       "      <td>Martha</td>\n",
       "      <td>Alexander</td>\n",
       "      <td>Home Theater</td>\n",
       "      <td>4.00</td>\n",
       "      <td>500.000</td>\n",
       "      <td>2000.00</td>\n",
       "    </tr>\n",
       "    <tr>\n",
       "      <th>25</th>\n",
       "      <td>2019-03-07</td>\n",
       "      <td>West</td>\n",
       "      <td>Timothy</td>\n",
       "      <td>Stephen</td>\n",
       "      <td>Home Theater</td>\n",
       "      <td>7.00</td>\n",
       "      <td>500.000</td>\n",
       "      <td>3500.00</td>\n",
       "    </tr>\n",
       "    <tr>\n",
       "      <th>26</th>\n",
       "      <td>2019-03-24</td>\n",
       "      <td>Central</td>\n",
       "      <td>Hermann</td>\n",
       "      <td>Luis</td>\n",
       "      <td>Video Games</td>\n",
       "      <td>50.00</td>\n",
       "      <td>58.500</td>\n",
       "      <td>2925.00</td>\n",
       "    </tr>\n",
       "    <tr>\n",
       "      <th>27</th>\n",
       "      <td>2019-04-10</td>\n",
       "      <td>Central</td>\n",
       "      <td>Martha</td>\n",
       "      <td>Steven</td>\n",
       "      <td>Television</td>\n",
       "      <td>66.00</td>\n",
       "      <td>1198.000</td>\n",
       "      <td>79068.00</td>\n",
       "    </tr>\n",
       "    <tr>\n",
       "      <th>28</th>\n",
       "      <td>2019-04-27</td>\n",
       "      <td>East</td>\n",
       "      <td>Martha</td>\n",
       "      <td>Diana</td>\n",
       "      <td>Cell Phone</td>\n",
       "      <td>96.00</td>\n",
       "      <td>225.000</td>\n",
       "      <td>21600.00</td>\n",
       "    </tr>\n",
       "    <tr>\n",
       "      <th>29</th>\n",
       "      <td>2019-05-14</td>\n",
       "      <td>Central</td>\n",
       "      <td>Timothy</td>\n",
       "      <td>David</td>\n",
       "      <td>Television</td>\n",
       "      <td>53.00</td>\n",
       "      <td>1198.000</td>\n",
       "      <td>63494.00</td>\n",
       "    </tr>\n",
       "    <tr>\n",
       "      <th>30</th>\n",
       "      <td>2019-05-31</td>\n",
       "      <td>Central</td>\n",
       "      <td>Timothy</td>\n",
       "      <td>David</td>\n",
       "      <td>Home Theater</td>\n",
       "      <td>80.00</td>\n",
       "      <td>500.000</td>\n",
       "      <td>40000.00</td>\n",
       "    </tr>\n",
       "    <tr>\n",
       "      <th>31</th>\n",
       "      <td>2019-06-17</td>\n",
       "      <td>Central</td>\n",
       "      <td>Hermann</td>\n",
       "      <td>Shelli</td>\n",
       "      <td>Desk</td>\n",
       "      <td>5.00</td>\n",
       "      <td>125.000</td>\n",
       "      <td>625.00</td>\n",
       "    </tr>\n",
       "    <tr>\n",
       "      <th>32</th>\n",
       "      <td>2019-07-04</td>\n",
       "      <td>East</td>\n",
       "      <td>Martha</td>\n",
       "      <td>Alexander</td>\n",
       "      <td>Video Games</td>\n",
       "      <td>62.00</td>\n",
       "      <td>58.500</td>\n",
       "      <td>3627.00</td>\n",
       "    </tr>\n",
       "    <tr>\n",
       "      <th>33</th>\n",
       "      <td>2019-07-21</td>\n",
       "      <td>Central</td>\n",
       "      <td>Hermann</td>\n",
       "      <td>Sigal</td>\n",
       "      <td>Video Games</td>\n",
       "      <td>55.00</td>\n",
       "      <td>58.500</td>\n",
       "      <td>3217.50</td>\n",
       "    </tr>\n",
       "    <tr>\n",
       "      <th>34</th>\n",
       "      <td>2019-08-07</td>\n",
       "      <td>Central</td>\n",
       "      <td>Hermann</td>\n",
       "      <td>Shelli</td>\n",
       "      <td>Video Games</td>\n",
       "      <td>42.00</td>\n",
       "      <td>58.500</td>\n",
       "      <td>2457.00</td>\n",
       "    </tr>\n",
       "    <tr>\n",
       "      <th>35</th>\n",
       "      <td>2019-08-24</td>\n",
       "      <td>West</td>\n",
       "      <td>Timothy</td>\n",
       "      <td>Stephen</td>\n",
       "      <td>Desk</td>\n",
       "      <td>3.00</td>\n",
       "      <td>125.000</td>\n",
       "      <td>375.00</td>\n",
       "    </tr>\n",
       "    <tr>\n",
       "      <th>36</th>\n",
       "      <td>2019-09-10</td>\n",
       "      <td>Central</td>\n",
       "      <td>Timothy</td>\n",
       "      <td>David</td>\n",
       "      <td>Television</td>\n",
       "      <td>7.00</td>\n",
       "      <td>1198.000</td>\n",
       "      <td>8386.00</td>\n",
       "    </tr>\n",
       "    <tr>\n",
       "      <th>37</th>\n",
       "      <td>2019-09-27</td>\n",
       "      <td>West</td>\n",
       "      <td>Timothy</td>\n",
       "      <td>Stephen</td>\n",
       "      <td>Cell Phone</td>\n",
       "      <td>76.00</td>\n",
       "      <td>225.000</td>\n",
       "      <td>17100.00</td>\n",
       "    </tr>\n",
       "    <tr>\n",
       "      <th>38</th>\n",
       "      <td>2019-10-14</td>\n",
       "      <td>West</td>\n",
       "      <td>Douglas</td>\n",
       "      <td>Michael</td>\n",
       "      <td>Home Theater</td>\n",
       "      <td>57.00</td>\n",
       "      <td>500.000</td>\n",
       "      <td>28500.00</td>\n",
       "    </tr>\n",
       "    <tr>\n",
       "      <th>39</th>\n",
       "      <td>2019-10-31</td>\n",
       "      <td>Central</td>\n",
       "      <td>Martha</td>\n",
       "      <td>Steven</td>\n",
       "      <td>Television</td>\n",
       "      <td>14.00</td>\n",
       "      <td>1198.000</td>\n",
       "      <td>16772.00</td>\n",
       "    </tr>\n",
       "    <tr>\n",
       "      <th>40</th>\n",
       "      <td>2019-11-17</td>\n",
       "      <td>Central</td>\n",
       "      <td>Hermann</td>\n",
       "      <td>Luis</td>\n",
       "      <td>Home Theater</td>\n",
       "      <td>11.00</td>\n",
       "      <td>500.000</td>\n",
       "      <td>5500.00</td>\n",
       "    </tr>\n",
       "    <tr>\n",
       "      <th>41</th>\n",
       "      <td>2019-12-04</td>\n",
       "      <td>Central</td>\n",
       "      <td>Hermann</td>\n",
       "      <td>Luis</td>\n",
       "      <td>Home Theater</td>\n",
       "      <td>94.00</td>\n",
       "      <td>500.000</td>\n",
       "      <td>47000.00</td>\n",
       "    </tr>\n",
       "    <tr>\n",
       "      <th>42</th>\n",
       "      <td>2019-12-21</td>\n",
       "      <td>Central</td>\n",
       "      <td>Martha</td>\n",
       "      <td>Steven</td>\n",
       "      <td>Home Theater</td>\n",
       "      <td>28.00</td>\n",
       "      <td>500.000</td>\n",
       "      <td>14000.00</td>\n",
       "    </tr>\n",
       "    <tr>\n",
       "      <th>43</th>\n",
       "      <td>NaT</td>\n",
       "      <td>NaN</td>\n",
       "      <td>NaN</td>\n",
       "      <td>NaN</td>\n",
       "      <td>NaN</td>\n",
       "      <td>278.00</td>\n",
       "      <td>1125.000</td>\n",
       "      <td>62550.00</td>\n",
       "    </tr>\n",
       "    <tr>\n",
       "      <th>44</th>\n",
       "      <td>NaT</td>\n",
       "      <td>NaN</td>\n",
       "      <td>NaN</td>\n",
       "      <td>NaN</td>\n",
       "      <td>NaN</td>\n",
       "      <td>34.75</td>\n",
       "      <td>140.625</td>\n",
       "      <td>7818.75</td>\n",
       "    </tr>\n",
       "  </tbody>\n",
       "</table>\n",
       "</div>"
      ],
      "text/plain": [
       "    OrderDate   Region  Manager   SalesMan          Item   Units  Unit_price  \\\n",
       "0  2018-01-06     East   Martha  Alexander    Television   95.00    1198.000   \n",
       "1  2018-01-23  Central  Hermann     Shelli  Home Theater   50.00     500.000   \n",
       "2  2018-02-09  Central  Hermann       Luis    Television   36.00    1198.000   \n",
       "3  2018-02-26  Central  Timothy      David    Cell Phone   27.00     225.000   \n",
       "4  2018-03-15     West  Timothy    Stephen    Television   56.00    1198.000   \n",
       "5  2018-04-01     East   Martha  Alexander  Home Theater   60.00     500.000   \n",
       "6  2018-04-18  Central   Martha     Steven    Television   75.00    1198.000   \n",
       "7  2018-05-05  Central  Hermann       Luis    Television   90.00    1198.000   \n",
       "8  2018-05-22     West  Douglas    Michael    Television   32.00    1198.000   \n",
       "9  2018-06-08     East   Martha  Alexander  Home Theater   60.00     500.000   \n",
       "10 2018-06-25  Central  Hermann      Sigal    Television   90.00    1198.000   \n",
       "11 2018-07-12     East   Martha      Diana  Home Theater   29.00     500.000   \n",
       "12 2018-07-29     East  Douglas      Karen  Home Theater   81.00     500.000   \n",
       "13 2018-08-15     East   Martha  Alexander    Television   35.00    1198.000   \n",
       "14 2018-09-01  Central  Douglas       John          Desk    2.00     125.000   \n",
       "15 2018-09-18     East   Martha  Alexander   Video Games   16.00      58.500   \n",
       "16 2018-10-05  Central  Hermann      Sigal  Home Theater   28.00     500.000   \n",
       "17 2018-10-22     East   Martha  Alexander    Cell Phone   64.00     225.000   \n",
       "18 2018-11-08     East  Douglas      Karen    Cell Phone   15.00     225.000   \n",
       "19 2018-11-25  Central  Hermann     Shelli   Video Games   96.00      58.500   \n",
       "20 2018-12-12  Central  Douglas       John    Television   67.00    1198.000   \n",
       "21 2018-12-29     East  Douglas      Karen   Video Games   74.00      58.500   \n",
       "22 2019-01-15  Central  Timothy      David  Home Theater   46.00     500.000   \n",
       "23 2019-02-01  Central  Douglas       John  Home Theater   87.00     500.000   \n",
       "24 2019-02-18     East   Martha  Alexander  Home Theater    4.00     500.000   \n",
       "25 2019-03-07     West  Timothy    Stephen  Home Theater    7.00     500.000   \n",
       "26 2019-03-24  Central  Hermann       Luis   Video Games   50.00      58.500   \n",
       "27 2019-04-10  Central   Martha     Steven    Television   66.00    1198.000   \n",
       "28 2019-04-27     East   Martha      Diana    Cell Phone   96.00     225.000   \n",
       "29 2019-05-14  Central  Timothy      David    Television   53.00    1198.000   \n",
       "30 2019-05-31  Central  Timothy      David  Home Theater   80.00     500.000   \n",
       "31 2019-06-17  Central  Hermann     Shelli          Desk    5.00     125.000   \n",
       "32 2019-07-04     East   Martha  Alexander   Video Games   62.00      58.500   \n",
       "33 2019-07-21  Central  Hermann      Sigal   Video Games   55.00      58.500   \n",
       "34 2019-08-07  Central  Hermann     Shelli   Video Games   42.00      58.500   \n",
       "35 2019-08-24     West  Timothy    Stephen          Desk    3.00     125.000   \n",
       "36 2019-09-10  Central  Timothy      David    Television    7.00    1198.000   \n",
       "37 2019-09-27     West  Timothy    Stephen    Cell Phone   76.00     225.000   \n",
       "38 2019-10-14     West  Douglas    Michael  Home Theater   57.00     500.000   \n",
       "39 2019-10-31  Central   Martha     Steven    Television   14.00    1198.000   \n",
       "40 2019-11-17  Central  Hermann       Luis  Home Theater   11.00     500.000   \n",
       "41 2019-12-04  Central  Hermann       Luis  Home Theater   94.00     500.000   \n",
       "42 2019-12-21  Central   Martha     Steven  Home Theater   28.00     500.000   \n",
       "43        NaT      NaN      NaN        NaN           NaN  278.00    1125.000   \n",
       "44        NaT      NaN      NaN        NaN           NaN   34.75     140.625   \n",
       "\n",
       "     Sale_amt  \n",
       "0   113810.00  \n",
       "1    25000.00  \n",
       "2    43128.00  \n",
       "3     6075.00  \n",
       "4    67088.00  \n",
       "5    30000.00  \n",
       "6    89850.00  \n",
       "7   107820.00  \n",
       "8    38336.00  \n",
       "9    30000.00  \n",
       "10  107820.00  \n",
       "11   14500.00  \n",
       "12   40500.00  \n",
       "13   41930.00  \n",
       "14     250.00  \n",
       "15     936.00  \n",
       "16   14000.00  \n",
       "17   14400.00  \n",
       "18    3375.00  \n",
       "19    5616.00  \n",
       "20   80266.00  \n",
       "21    4329.00  \n",
       "22   23000.00  \n",
       "23   43500.00  \n",
       "24    2000.00  \n",
       "25    3500.00  \n",
       "26    2925.00  \n",
       "27   79068.00  \n",
       "28   21600.00  \n",
       "29   63494.00  \n",
       "30   40000.00  \n",
       "31     625.00  \n",
       "32    3627.00  \n",
       "33    3217.50  \n",
       "34    2457.00  \n",
       "35     375.00  \n",
       "36    8386.00  \n",
       "37   17100.00  \n",
       "38   28500.00  \n",
       "39   16772.00  \n",
       "40    5500.00  \n",
       "41   47000.00  \n",
       "42   14000.00  \n",
       "43   62550.00  \n",
       "44    7818.75  "
      ]
     },
     "execution_count": 98,
     "metadata": {},
     "output_type": "execute_result"
    }
   ],
   "source": [
    "sales"
   ]
  },
  {
   "cell_type": "code",
   "execution_count": 99,
   "id": "383f077d-6906-49aa-a6f0-0bea26bff056",
   "metadata": {},
   "outputs": [
    {
     "data": {
      "text/plain": [
       "array(['East', 'Central', 'West', nan], dtype=object)"
      ]
     },
     "execution_count": 99,
     "metadata": {},
     "output_type": "execute_result"
    }
   ],
   "source": [
    "sales.Region.unique()"
   ]
  },
  {
   "cell_type": "code",
   "execution_count": 102,
   "id": "aaf87ea0-80ad-4bca-b533-5d9e5214d547",
   "metadata": {},
   "outputs": [
    {
     "data": {
      "text/plain": [
       "Region\n",
       "Central    24\n",
       "East       13\n",
       "West        6\n",
       "NaN         2\n",
       "Name: count, dtype: int64"
      ]
     },
     "execution_count": 102,
     "metadata": {},
     "output_type": "execute_result"
    }
   ],
   "source": [
    "sales.Region.value_counts(dropna=False)"
   ]
  },
  {
   "cell_type": "code",
   "execution_count": null,
   "id": "f1813b68-748f-4cde-bbfe-b758f88e5298",
   "metadata": {},
   "outputs": [],
   "source": []
  }
 ],
 "metadata": {
  "kernelspec": {
   "display_name": "Python 3 (ipykernel)",
   "language": "python",
   "name": "python3"
  },
  "language_info": {
   "codemirror_mode": {
    "name": "ipython",
    "version": 3
   },
   "file_extension": ".py",
   "mimetype": "text/x-python",
   "name": "python",
   "nbconvert_exporter": "python",
   "pygments_lexer": "ipython3",
   "version": "3.12.1"
  }
 },
 "nbformat": 4,
 "nbformat_minor": 5
}
